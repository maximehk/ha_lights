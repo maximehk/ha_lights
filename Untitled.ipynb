{
 "cells": [
  {
   "cell_type": "code",
   "execution_count": 8,
   "id": "dcdd58d0",
   "metadata": {
    "scrolled": true
   },
   "outputs": [
    {
     "name": "stdout",
     "output_type": "stream",
     "text": [
      "Collecting home-assistant-lights==0.0.3\n",
      "  Downloading home_assistant_lights-0.0.3-py3-none-any.whl (1.9 kB)\n",
      "Requirement already satisfied: homeassistant-api>=4.0.0.post2 in /Users/maximeh/opt/anaconda3/lib/python3.9/site-packages (from home-assistant-lights==0.0.3) (4.0.0.post2)\n",
      "Requirement already satisfied: simplejson<4.0.0,>=3.17.6 in /Users/maximeh/opt/anaconda3/lib/python3.9/site-packages (from homeassistant-api>=4.0.0.post2->home-assistant-lights==0.0.3) (3.17.6)\n",
      "Requirement already satisfied: aiohttp<4.0.0,>=3.8.1 in /Users/maximeh/opt/anaconda3/lib/python3.9/site-packages (from homeassistant-api>=4.0.0.post2->home-assistant-lights==0.0.3) (3.8.1)\n",
      "Requirement already satisfied: requests==2.27.1 in /Users/maximeh/opt/anaconda3/lib/python3.9/site-packages (from homeassistant-api>=4.0.0.post2->home-assistant-lights==0.0.3) (2.27.1)\n",
      "Requirement already satisfied: pydantic<=1.9.0 in /Users/maximeh/opt/anaconda3/lib/python3.9/site-packages (from homeassistant-api>=4.0.0.post2->home-assistant-lights==0.0.3) (1.9.0)\n",
      "Requirement already satisfied: requests-cache<0.10.0,>=0.9.2 in /Users/maximeh/opt/anaconda3/lib/python3.9/site-packages (from homeassistant-api>=4.0.0.post2->home-assistant-lights==0.0.3) (0.9.7)\n",
      "Requirement already satisfied: aiohttp-client-cache<0.7.0,>=0.6.1 in /Users/maximeh/opt/anaconda3/lib/python3.9/site-packages (from homeassistant-api>=4.0.0.post2->home-assistant-lights==0.0.3) (0.6.1)\n",
      "Requirement already satisfied: charset-normalizer~=2.0.0 in /Users/maximeh/opt/anaconda3/lib/python3.9/site-packages (from requests==2.27.1->homeassistant-api>=4.0.0.post2->home-assistant-lights==0.0.3) (2.0.4)\n",
      "Requirement already satisfied: urllib3<1.27,>=1.21.1 in /Users/maximeh/opt/anaconda3/lib/python3.9/site-packages (from requests==2.27.1->homeassistant-api>=4.0.0.post2->home-assistant-lights==0.0.3) (1.26.9)\n",
      "Requirement already satisfied: idna<4,>=2.5 in /Users/maximeh/opt/anaconda3/lib/python3.9/site-packages (from requests==2.27.1->homeassistant-api>=4.0.0.post2->home-assistant-lights==0.0.3) (3.3)\n",
      "Requirement already satisfied: certifi>=2017.4.17 in /Users/maximeh/opt/anaconda3/lib/python3.9/site-packages (from requests==2.27.1->homeassistant-api>=4.0.0.post2->home-assistant-lights==0.0.3) (2021.10.8)\n",
      "Requirement already satisfied: yarl<2.0,>=1.0 in /Users/maximeh/opt/anaconda3/lib/python3.9/site-packages (from aiohttp<4.0.0,>=3.8.1->homeassistant-api>=4.0.0.post2->home-assistant-lights==0.0.3) (1.6.3)\n",
      "Requirement already satisfied: async-timeout<5.0,>=4.0.0a3 in /Users/maximeh/opt/anaconda3/lib/python3.9/site-packages (from aiohttp<4.0.0,>=3.8.1->homeassistant-api>=4.0.0.post2->home-assistant-lights==0.0.3) (4.0.1)\n",
      "Requirement already satisfied: aiosignal>=1.1.2 in /Users/maximeh/opt/anaconda3/lib/python3.9/site-packages (from aiohttp<4.0.0,>=3.8.1->homeassistant-api>=4.0.0.post2->home-assistant-lights==0.0.3) (1.2.0)\n",
      "Requirement already satisfied: multidict<7.0,>=4.5 in /Users/maximeh/opt/anaconda3/lib/python3.9/site-packages (from aiohttp<4.0.0,>=3.8.1->homeassistant-api>=4.0.0.post2->home-assistant-lights==0.0.3) (5.2.0)\n",
      "Requirement already satisfied: frozenlist>=1.1.1 in /Users/maximeh/opt/anaconda3/lib/python3.9/site-packages (from aiohttp<4.0.0,>=3.8.1->homeassistant-api>=4.0.0.post2->home-assistant-lights==0.0.3) (1.2.0)\n",
      "Requirement already satisfied: attrs>=17.3.0 in /Users/maximeh/opt/anaconda3/lib/python3.9/site-packages (from aiohttp<4.0.0,>=3.8.1->homeassistant-api>=4.0.0.post2->home-assistant-lights==0.0.3) (21.4.0)\n",
      "Requirement already satisfied: python-forge<19.0,>=18.6 in /Users/maximeh/opt/anaconda3/lib/python3.9/site-packages (from aiohttp-client-cache<0.7.0,>=0.6.1->homeassistant-api>=4.0.0.post2->home-assistant-lights==0.0.3) (18.6.0)\n",
      "Requirement already satisfied: url-normalize<2.0,>=1.4 in /Users/maximeh/opt/anaconda3/lib/python3.9/site-packages (from aiohttp-client-cache<0.7.0,>=0.6.1->homeassistant-api>=4.0.0.post2->home-assistant-lights==0.0.3) (1.4.3)\n",
      "Requirement already satisfied: itsdangerous in /Users/maximeh/opt/anaconda3/lib/python3.9/site-packages (from aiohttp-client-cache<0.7.0,>=0.6.1->homeassistant-api>=4.0.0.post2->home-assistant-lights==0.0.3) (2.0.1)\n",
      "Requirement already satisfied: aiodns in /Users/maximeh/opt/anaconda3/lib/python3.9/site-packages (from aiohttp<4.0.0,>=3.8.1->homeassistant-api>=4.0.0.post2->home-assistant-lights==0.0.3) (3.0.0)\n",
      "Requirement already satisfied: cchardet in /Users/maximeh/opt/anaconda3/lib/python3.9/site-packages (from aiohttp<4.0.0,>=3.8.1->homeassistant-api>=4.0.0.post2->home-assistant-lights==0.0.3) (2.1.7)\n",
      "Requirement already satisfied: Brotli in /Users/maximeh/opt/anaconda3/lib/python3.9/site-packages (from aiohttp<4.0.0,>=3.8.1->homeassistant-api>=4.0.0.post2->home-assistant-lights==0.0.3) (1.0.9)\n",
      "Requirement already satisfied: typing-extensions>=3.6.5 in /Users/maximeh/opt/anaconda3/lib/python3.9/site-packages (from async-timeout<5.0,>=4.0.0a3->aiohttp<4.0.0,>=3.8.1->homeassistant-api>=4.0.0.post2->home-assistant-lights==0.0.3) (4.1.1)\n",
      "Requirement already satisfied: appdirs>=1.4.4 in /Users/maximeh/opt/anaconda3/lib/python3.9/site-packages (from requests-cache<0.10.0,>=0.9.2->homeassistant-api>=4.0.0.post2->home-assistant-lights==0.0.3) (1.4.4)\n",
      "Requirement already satisfied: cattrs>=22.2 in /Users/maximeh/opt/anaconda3/lib/python3.9/site-packages (from requests-cache<0.10.0,>=0.9.2->homeassistant-api>=4.0.0.post2->home-assistant-lights==0.0.3) (22.2.0)\n",
      "Requirement already satisfied: exceptiongroup in /Users/maximeh/opt/anaconda3/lib/python3.9/site-packages (from cattrs>=22.2->requests-cache<0.10.0,>=0.9.2->homeassistant-api>=4.0.0.post2->home-assistant-lights==0.0.3) (1.0.0)\n",
      "Requirement already satisfied: six in /Users/maximeh/opt/anaconda3/lib/python3.9/site-packages (from url-normalize<2.0,>=1.4->aiohttp-client-cache<0.7.0,>=0.6.1->homeassistant-api>=4.0.0.post2->home-assistant-lights==0.0.3) (1.16.0)\n",
      "Requirement already satisfied: pycares>=4.0.0 in /Users/maximeh/opt/anaconda3/lib/python3.9/site-packages (from aiodns->aiohttp<4.0.0,>=3.8.1->homeassistant-api>=4.0.0.post2->home-assistant-lights==0.0.3) (4.2.2)\n",
      "Requirement already satisfied: cffi>=1.5.0 in /Users/maximeh/opt/anaconda3/lib/python3.9/site-packages (from pycares>=4.0.0->aiodns->aiohttp<4.0.0,>=3.8.1->homeassistant-api>=4.0.0.post2->home-assistant-lights==0.0.3) (1.15.0)\n",
      "Requirement already satisfied: pycparser in /Users/maximeh/opt/anaconda3/lib/python3.9/site-packages (from cffi>=1.5.0->pycares>=4.0.0->aiodns->aiohttp<4.0.0,>=3.8.1->homeassistant-api>=4.0.0.post2->home-assistant-lights==0.0.3) (2.21)\n",
      "Installing collected packages: home-assistant-lights\n",
      "  Attempting uninstall: home-assistant-lights\n",
      "    Found existing installation: home-assistant-lights 0.0.2\n",
      "    Uninstalling home-assistant-lights-0.0.2:\n",
      "      Successfully uninstalled home-assistant-lights-0.0.2\n",
      "Successfully installed home-assistant-lights-0.0.3\n"
     ]
    }
   ],
   "source": [
    "!pip install \"home-assistant-lights==0.0.3\""
   ]
  },
  {
   "cell_type": "code",
   "execution_count": null,
   "id": "fc3c5928",
   "metadata": {},
   "outputs": [],
   "source": [
    "import homeassistant_api as ha\n",
    "import ha_lights\n",
    "from collections import namedtuple\n",
    "\n",
    "client = ha.Client('URL', 'TOKEN')\n",
    "factory = ha_lights.Factory(client)\n",
    "lights,switches = factory.AllLights(), factory.AllSwitches()\n"
   ]
  },
  {
   "cell_type": "code",
   "execution_count": null,
   "id": "bc2ce60e",
   "metadata": {},
   "outputs": [],
   "source": [
    "ha_lights.Factory"
   ]
  },
  {
   "cell_type": "code",
   "execution_count": null,
   "id": "511184bb",
   "metadata": {},
   "outputs": [],
   "source": []
  }
 ],
 "metadata": {
  "kernelspec": {
   "display_name": "Python 3 (ipykernel)",
   "language": "python",
   "name": "python3"
  },
  "language_info": {
   "codemirror_mode": {
    "name": "ipython",
    "version": 3
   },
   "file_extension": ".py",
   "mimetype": "text/x-python",
   "name": "python",
   "nbconvert_exporter": "python",
   "pygments_lexer": "ipython3",
   "version": "3.9.12"
  }
 },
 "nbformat": 4,
 "nbformat_minor": 5
}
