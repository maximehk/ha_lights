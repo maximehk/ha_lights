{
 "cells": [
  {
   "cell_type": "code",
   "execution_count": 3,
   "id": "dcdd58d0",
   "metadata": {
    "scrolled": true
   },
   "outputs": [
    {
     "name": "stdout",
     "output_type": "stream",
     "text": [
      "\u001b[31mERROR: Could not find a version that satisfies the requirement home-assistant-lights>=0.0.2 (from versions: 0.0.1)\u001b[0m\r\n",
      "\u001b[31mERROR: No matching distribution found for home-assistant-lights>=0.0.2\u001b[0m\r\n"
     ]
    }
   ],
   "source": [
    "!pip install \"home-assistant-lights>=0.0.2\""
   ]
  },
  {
   "cell_type": "code",
   "execution_count": 4,
   "id": "fc3c5928",
   "metadata": {},
   "outputs": [
    {
     "ename": "NameError",
     "evalue": "name 'client' is not defined",
     "output_type": "error",
     "traceback": [
      "\u001b[0;31m---------------------------------------------------------------------------\u001b[0m",
      "\u001b[0;31mNameError\u001b[0m                                 Traceback (most recent call last)",
      "Input \u001b[0;32mIn [4]\u001b[0m, in \u001b[0;36m<cell line: 7>\u001b[0;34m()\u001b[0m\n\u001b[1;32m      5\u001b[0m client \u001b[38;5;241m=\u001b[39m ha\u001b[38;5;241m.\u001b[39mClient(\u001b[38;5;124m'\u001b[39m\u001b[38;5;124mURL\u001b[39m\u001b[38;5;124m'\u001b[39m, \u001b[38;5;124m'\u001b[39m\u001b[38;5;124mTOKEN\u001b[39m\u001b[38;5;124m'\u001b[39m)\n\u001b[1;32m      6\u001b[0m factory \u001b[38;5;241m=\u001b[39m ha_lights\u001b[38;5;241m.\u001b[39mFactory(client)\n\u001b[0;32m----> 7\u001b[0m lights,switches \u001b[38;5;241m=\u001b[39m \u001b[43mfactory\u001b[49m\u001b[38;5;241;43m.\u001b[39;49m\u001b[43mAllLights\u001b[49m\u001b[43m(\u001b[49m\u001b[43m)\u001b[49m, factory\u001b[38;5;241m.\u001b[39mAllSwitches()\n",
      "File \u001b[0;32m~/ha_lights/ha_lights.py:86\u001b[0m, in \u001b[0;36mFactory.AllLights\u001b[0;34m(self)\u001b[0m\n\u001b[1;32m     85\u001b[0m \u001b[38;5;28;01mdef\u001b[39;00m \u001b[38;5;21mAllLights\u001b[39m(\u001b[38;5;28mself\u001b[39m):\n\u001b[0;32m---> 86\u001b[0m     light_ids \u001b[38;5;241m=\u001b[39m \u001b[43mclient\u001b[49m\u001b[38;5;241m.\u001b[39mget_entities()[\u001b[38;5;124m'\u001b[39m\u001b[38;5;124mlight\u001b[39m\u001b[38;5;124m'\u001b[39m]\u001b[38;5;241m.\u001b[39mentities\u001b[38;5;241m.\u001b[39mkeys()\n\u001b[1;32m     87\u001b[0m     \u001b[38;5;28;01mreturn\u001b[39;00m namedtuple(\u001b[38;5;124m'\u001b[39m\u001b[38;5;124mLights\u001b[39m\u001b[38;5;124m'\u001b[39m, light_ids)(\u001b[38;5;241m*\u001b[39m[factory\u001b[38;5;241m.\u001b[39mMakeLight(x) \u001b[38;5;28;01mfor\u001b[39;00m x \u001b[38;5;129;01min\u001b[39;00m light_ids])\n",
      "\u001b[0;31mNameError\u001b[0m: name 'client' is not defined"
     ]
    }
   ],
   "source": [
    "import homeassistant_api as ha\n",
    "import ha_lights\n",
    "from collections import namedtuple\n",
    "\n",
    "client = ha.Client('URL', 'TOKEN')\n",
    "factory = ha_lights.Factory(client)\n",
    "lights,switches = factory.AllLights(), factory.AllSwitches()\n"
   ]
  },
  {
   "cell_type": "code",
   "execution_count": 5,
   "id": "bc2ce60e",
   "metadata": {},
   "outputs": [
    {
     "data": {
      "text/plain": [
       "ha_lights.Factory"
      ]
     },
     "execution_count": 5,
     "metadata": {},
     "output_type": "execute_result"
    }
   ],
   "source": [
    "ha_lights.Factory"
   ]
  },
  {
   "cell_type": "code",
   "execution_count": null,
   "id": "511184bb",
   "metadata": {},
   "outputs": [],
   "source": []
  }
 ],
 "metadata": {
  "kernelspec": {
   "display_name": "Python 3 (ipykernel)",
   "language": "python",
   "name": "python3"
  },
  "language_info": {
   "codemirror_mode": {
    "name": "ipython",
    "version": 3
   },
   "file_extension": ".py",
   "mimetype": "text/x-python",
   "name": "python",
   "nbconvert_exporter": "python",
   "pygments_lexer": "ipython3",
   "version": "3.9.12"
  }
 },
 "nbformat": 4,
 "nbformat_minor": 5
}
