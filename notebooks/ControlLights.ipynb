{
 "cells": [
  {
   "cell_type": "code",
   "execution_count": null,
   "id": "dcdd58d0",
   "metadata": {},
   "outputs": [],
   "source": [
    "!pip install \"home-assistant-lights==0.0.3\""
   ]
  },
  {
   "cell_type": "code",
   "execution_count": 2,
   "id": "fc3c5928",
   "metadata": {},
   "outputs": [],
   "source": [
    "from collections import namedtuple\n",
    "import subprocess as sp\n",
    "import json\n",
    "\n",
    "import homeassistant_api as ha\n",
    "import ha_lights\n",
    "\n",
    "# Load credentials\n",
    "creds = sp.getoutput(\"op item get 'HomeAssistant pyscript' --format json --field credential,url\")\n",
    "token, api_url = [x['value'] for x in  json.loads(creds)]\n",
    "\n",
    "# Init client and lights/switches\n",
    "client = ha.Client(api_url, token)\n",
    "factory = ha_lights.Factory(client)\n",
    "lights, switches = factory.AllLights(), factory.AllSwitches()\n"
   ]
  },
  {
   "cell_type": "code",
   "execution_count": 4,
   "id": "bc2ce60e",
   "metadata": {},
   "outputs": [
    {
     "data": {
      "text/plain": [
       "'off'"
      ]
     },
     "execution_count": 4,
     "metadata": {},
     "output_type": "execute_result"
    }
   ],
   "source": [
    "lights.living_room_tripod.state.state\n"
   ]
  },
  {
   "cell_type": "code",
   "execution_count": null,
   "id": "511184bb",
   "metadata": {},
   "outputs": [],
   "source": []
  }
 ],
 "metadata": {
  "kernelspec": {
   "display_name": "Python 3 (ipykernel)",
   "language": "python",
   "name": "python3"
  },
  "language_info": {
   "codemirror_mode": {
    "name": "ipython",
    "version": 3
   },
   "file_extension": ".py",
   "mimetype": "text/x-python",
   "name": "python",
   "nbconvert_exporter": "python",
   "pygments_lexer": "ipython3",
   "version": "3.9.12"
  }
 },
 "nbformat": 4,
 "nbformat_minor": 5
}
